{
 "cells": [
  {
   "cell_type": "markdown",
   "id": "95284add",
   "metadata": {},
   "source": [
    "## Data Loading: TensorFlow TFRecord\n",
    " This example demonstrates how to utilise rocAL to access data that has been saved in the TensorFlow TFRecord format."
   ]
  },
  {
   "cell_type": "markdown",
   "id": "81f6b975",
   "metadata": {},
   "source": [
    "## Common Code"
   ]
  },
  {
   "cell_type": "code",
   "execution_count": null,
   "id": "dae4d589",
   "metadata": {},
   "outputs": [],
   "source": [
    "from amd.rocal.plugin.tf import ROCALIterator\n",
    "from amd.rocal.pipeline import Pipeline\n",
    "import amd.rocal.types as types\n",
    "import amd.rocal.fn as fn\n",
    "import tensorflow as tf\n",
    "import os\n",
    "import matplotlib.pyplot as plt\n",
    "%matplotlib inline"
   ]
  },
  {
   "cell_type": "markdown",
   "id": "d4c70a58",
   "metadata": {},
   "source": [
    "## Configuring rocAL pipeline\n",
    "\n",
    "Configure the pipeline parameters as required by the user."
   ]
  },
  {
   "cell_type": "code",
   "execution_count": null,
   "id": "2baa1c4d",
   "metadata": {},
   "outputs": [],
   "source": [
    "image_path = os.path.join(os.environ['ROCAL_DATA_PATH'], \"tf\", \"classification\")\n",
    "rocal_cpu = True\n",
    "batch_size = 10\n",
    "one_hot_label = 0\n",
    "num_threads = 1\n",
    "local_rank = 1\n",
    "tf_record_reader_type = 0\n",
    "featureKeyMap = {\n",
    "    \"image/encoded\": \"image/encoded\",\n",
    "    \"image/class/label\": \"image/class/label\",\n",
    "    \"image/filename\": \"image/filename\",\n",
    "}\n",
    "path = \"output_folder/tf_reader/classification/\""
   ]
  },
  {
   "cell_type": "markdown",
   "id": "7f5fa309",
   "metadata": {},
   "source": [
    "## Defining and Running the Pipeline\n",
    " Creating the pipeline using tf.readers for reading the images stored in tf_record format. In this pipeline, resize augmentation is used on the decoded images.<br>Resize augmentation outputs are returned using set_outputs"
   ]
  },
  {
   "cell_type": "code",
   "execution_count": null,
   "id": "3d6ef55f",
   "metadata": {},
   "outputs": [],
   "source": [
    "pipe = Pipeline(batch_size=batch_size, num_threads=num_threads, device_id=local_rank, seed=2, rocal_cpu=rocal_cpu, tensor_layout = types.NCHW)\n"
   ]
  },
  {
   "cell_type": "code",
   "execution_count": null,
   "id": "f80ad1a5",
   "metadata": {},
   "outputs": [],
   "source": [
    "with pipe:\n",
    "        inputs = fn.readers.tfrecord(path=image_path, reader_type=tf_record_reader_type, user_feature_key_map=featureKeyMap,\n",
    "            features={\n",
    "                \"image/encoded\": tf.io.FixedLenFeature((), tf.string, \"\"),\n",
    "                \"image/class/label\": tf.io.FixedLenFeature([1], tf.int64, -1),\n",
    "                \"image/filename\": tf.io.FixedLenFeature((), tf.string, \"\")\n",
    "            }\n",
    "        )\n",
    "        jpegs = inputs[\"image/encoded\"]\n",
    "        images = fn.decoders.image(jpegs, user_feature_key_map=featureKeyMap, output_type=types.RGB, path=image_path)\n",
    "        resized = fn.resize(images, resize_width=300, resize_height=300)\n",
    "        if(one_hot_label == 1):\n",
    "            labels = inputs[\"image/class/label\"]\n",
    "            _ = fn.one_hot(labels, num_classes=1000)\n",
    "        pipe.set_outputs(resized)"
   ]
  },
  {
   "cell_type": "code",
   "execution_count": null,
   "id": "6dfa7b3e",
   "metadata": {},
   "outputs": [],
   "source": [
    "pipe.build()\n",
    "# Dataloader\n",
    "imageIterator = ROCALIterator(pipe)"
   ]
  },
  {
   "cell_type": "markdown",
   "id": "630cda47",
   "metadata": {},
   "source": [
    "## Visualizing outputs\n",
    "We have displayed the output of augmented images using imshow()"
   ]
  },
  {
   "cell_type": "code",
   "execution_count": null,
   "id": "19493e1e",
   "metadata": {},
   "outputs": [],
   "source": [
    "cnt = 0\n",
    "fig, axes = plt.subplots(nrows=2, ncols=5, figsize=(20, 20))\n",
    "row = 0\n",
    "col = 0\n",
    "for i, ([images_array], labels_array) in enumerate(imageIterator, 0):\n",
    "    for k in images_array:\n",
    "        cnt += 1\n",
    "        image = k.astype(\"int\")\n",
    "        axes[row, col].imshow(image)\n",
    "        row += 1\n",
    "        if row == 2:\n",
    "            row = 0\n",
    "            if col != 4:\n",
    "                col += 1\n",
    "imageIterator.reset()"
   ]
  }
 ],
 "metadata": {
  "kernelspec": {
   "display_name": "Python 3 (ipykernel)",
   "language": "python",
   "name": "python3"
  },
  "language_info": {
   "codemirror_mode": {
    "name": "ipython",
    "version": 3
   },
   "file_extension": ".py",
   "mimetype": "text/x-python",
   "name": "python",
   "nbconvert_exporter": "python",
   "pygments_lexer": "ipython3",
   "version": "3.10.12"
  }
 },
 "nbformat": 4,
 "nbformat_minor": 5
}
