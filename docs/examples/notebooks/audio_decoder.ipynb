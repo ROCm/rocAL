{
 "cells": [
  {
   "cell_type": "markdown",
   "id": "30b7205e-8719-4b16-8839-7b52c435d0da",
   "metadata": {},
   "source": [
    "This example demonstrates how to set up a simple audio decoder pipeline. We load and decode audio data using rocAL. The input data used for this example is a sample speech dataset available in as .wav file)"
   ]
  },
  {
   "cell_type": "markdown",
   "id": "4225a5b0-85ba-4d65-85b0-a276f82c177d",
   "metadata": {},
   "source": [
    "The following python packages are required to run this example."
   ]
  },
  {
   "cell_type": "code",
   "execution_count": null,
   "id": "df054e1f-9b06-44f4-9aec-80c8798e3225",
   "metadata": {},
   "outputs": [],
   "source": [
    "!pip install opencv-python\n",
    "!pip install matplotlib"
   ]
  },
  {
   "cell_type": "code",
   "execution_count": null,
   "id": "1f8b52d0-4037-44b7-8e51-02ba2f026189",
   "metadata": {},
   "outputs": [],
   "source": [
    "import random\n",
    "import numpy as np\n",
    "from amd.rocal.plugin.pytorch import ROCALAudioIterator\n",
    "import torch\n",
    "np.set_printoptions(threshold=1000, edgeitems=10000)\n",
    "from amd.rocal.pipeline import Pipeline\n",
    "import amd.rocal.fn as fn\n",
    "import amd.rocal.types as types\n",
    "import math\n",
    "import sys\n",
    "import cv2\n",
    "import matplotlib.pyplot as plt\n",
    "import os"
   ]
  },
  {
   "cell_type": "markdown",
   "id": "062b38a6",
   "metadata": {},
   "source": [
    "The draw_patches function visualizes a given audio tensor by plotting its flattened data. It also extracts and displays a label associated with the audio data."
   ]
  },
  {
   "cell_type": "code",
   "execution_count": null,
   "id": "608547ee-a8c7-431f-ba79-b56abeaa5a93",
   "metadata": {},
   "outputs": [],
   "source": [
    "def draw_patches(img, idx, device):\n",
    "    image = img.detach().numpy()\n",
    "    audio_data = image.flatten()\n",
    "    label = idx.cpu().detach().numpy()\n",
    "    print(\"label\", label)\n",
    "    plt.plot(audio_data)\n",
    "    plt.show()\n",
    "    plt.close()"
   ]
  },
  {
   "cell_type": "markdown",
   "id": "4b2c27b1",
   "metadata": {},
   "source": [
    "Note: Set the ROCAL_DATA_PATH environment variable before running the notebook."
   ]
  },
  {
   "cell_type": "code",
   "execution_count": null,
   "id": "373f247a-a0f2-4a46-bb29-61460ab1c67a",
   "metadata": {},
   "outputs": [],
   "source": [
    "# Check if ROCAL_DATA_PATH is set\n",
    "rocal_data_path = os.environ.get('ROCAL_DATA_PATH')\n",
    "\n",
    "if rocal_data_path is None:\n",
    "    raise EnvironmentError(\"ROCAL_DATA_PATH environment variable is not set. Please set it to the correct path.\")\n",
    "\n",
    "if rocal_data_path is None:\n",
    "    print(\"The environment variable ROCAL_DATA_PATH is not set.\")\n",
    "else:\n",
    "    print(f\"ROCAL_DATA_PATH is set to: {rocal_data_path}\")\n",
    "\n",
    "rocal_audio_data_path = os.path.join(rocal_data_path, \"rocal_data\", \"audio\")\n"
   ]
  },
  {
   "cell_type": "markdown",
   "id": "2cb7c80e-fa78-4fdb-993e-f1f0eb4d62ba",
   "metadata": {},
   "source": [
    "Configuration of the rocAL Pipeline:\n",
    "\n",
    "The rocAL pipeline is configured with the following parameters:\n",
    "\n",
    "    batch_size: 1\n",
    "    CPU/GPU Backend: Configured to use CPU (rocal_cpu=True)\n",
    "\n",
    "Using a batch_size of 1 and cpu backend to keep things simple"
   ]
  },
  {
   "cell_type": "code",
   "execution_count": null,
   "id": "3a4d4365-5f01-4923-a0e4-6c13abb52883",
   "metadata": {},
   "outputs": [],
   "source": [
    "file_list = f\"{rocal_audio_data_path}/wav_file_list.txt\" #Use file list defined in the MIVisisonX-data repo\n",
    "rocal_cpu = True\n",
    "audio_pipeline = Pipeline(batch_size=1, num_threads=8, rocal_cpu=rocal_cpu)"
   ]
  },
  {
   "cell_type": "markdown",
   "id": "d59b9f7a-c997-4155-a9dd-81adf9c31f81",
   "metadata": {},
   "source": [
    "Reading Audio and Labels: \n",
    "\n",
    "    The 'fn.readers.file' function reads audio files and their labels from the provided file list.\n",
    "\n",
    "Decoding Audio:\n",
    "\n",
    "    The fn.decoders.audio function decodes the audio data with specified parameters.\n",
    "\n",
    "Parameters used for decoding:\n",
    "\n",
    "    audio: The audio data to be decoded.\n",
    "    file_root: The base path where audio wav files are present.\n",
    "    file_list_path: The path to the file list of audio wav files.\n"
   ]
  },
  {
   "cell_type": "code",
   "execution_count": null,
   "id": "2e391975-3769-41ac-9a52-28872b6a81c4",
   "metadata": {},
   "outputs": [],
   "source": [
    "with audio_pipeline:\n",
    "    audio, labels = fn.readers.file(file_root=rocal_audio_data_path, file_list=file_list)\n",
    "    decoded_audio = fn.decoders.audio(\n",
    "        audio,\n",
    "        file_root=rocal_audio_data_path,\n",
    "        file_list_path=file_list)\n",
    "    audio_pipeline.set_outputs(decoded_audio)\n"
   ]
  },
  {
   "cell_type": "markdown",
   "id": "a8fbfade",
   "metadata": {},
   "source": [
    "Build the pipeline and pass the pipeline to the ROCALAudioIterator"
   ]
  },
  {
   "cell_type": "code",
   "execution_count": null,
   "id": "b8e80c14-7521-4489-b3fd-7c300e2c144a",
   "metadata": {},
   "outputs": [],
   "source": [
    "audio_pipeline.build()\n",
    "audioIterator = ROCALAudioIterator(audio_pipeline)"
   ]
  },
  {
   "cell_type": "markdown",
   "id": "1bb26e37-3d99-4da4-92f6-004cb4de8c6c",
   "metadata": {},
   "source": [
    "The output from the iterator includes the audio data as PyTorch tensors, the corresponding labels, and the region of interest."
   ]
  },
  {
   "cell_type": "code",
   "execution_count": null,
   "id": "9e5cd458-b4c4-48f0-a067-36f82e743eef",
   "metadata": {},
   "outputs": [],
   "source": [
    "for i, output_list in enumerate(audioIterator):\n",
    "    for x in range(len(output_list[0])):\n",
    "        for audio_tensor, label, roi in zip(output_list[0][x], output_list[1], output_list[2]):\n",
    "            print(\"Audio shape: \", audio_tensor.shape)\n",
    "            print(\"Label: \", label)\n",
    "            print(\"Roi: \", roi)\n",
    "            draw_patches(audio_tensor, label, \"cpu\")\n",
    "audioIterator.reset()"
   ]
  }
 ],
 "metadata": {
  "kernelspec": {
   "display_name": "Python 3 (ipykernel)",
   "language": "python",
   "name": "python3"
  },
  "language_info": {
   "codemirror_mode": {
    "name": "ipython",
    "version": 3
   },
   "file_extension": ".py",
   "mimetype": "text/x-python",
   "name": "python",
   "nbconvert_exporter": "python",
   "pygments_lexer": "ipython3",
   "version": "3.10.13"
  }
 },
 "nbformat": 4,
 "nbformat_minor": 5
}
