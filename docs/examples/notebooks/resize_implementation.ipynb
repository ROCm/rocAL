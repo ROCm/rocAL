{
    "cells": [
        {
            "cell_type": "markdown",
            "id": "4f777cf2",
            "metadata": {},
            "source": [
                "<font size=\"18\">Image Augmentation App</font>"
            ]
        },
        {
            "cell_type": "markdown",
            "id": "185d3b2d",
            "metadata": {},
            "source": [
                "This application demonstrates a simple rocAL pipeline with different interpolation types for resize augmentation supported by rocAL."
            ]
        },
        {
            "cell_type": "markdown",
            "id": "2ace8c53",
            "metadata": {},
            "source": [
                "<font size=\"12\"> Common Code </font>"
            ]
        },
        {
            "cell_type": "code",
            "execution_count": null,
            "id": "15c865e2",
            "metadata": {},
            "outputs": [],
            "source": [
                "from amd.rocal.plugin.generic import ROCALClassificationIterator\n",
                "from amd.rocal.pipeline import Pipeline\n",
                "import amd.rocal.fn as fn\n",
                "import amd.rocal.types as types\n",
                "import matplotlib.pyplot as plt\n",
                "%matplotlib inline"
            ]
        },
        {
            "cell_type": "markdown",
            "id": "e0569dcc",
            "metadata": {},
            "source": [
                "<font size= \"12\" >Configuring rocAL pipeline </font>"
            ]
        },
        {
            "cell_type": "markdown",
            "id": "00c2815c",
            "metadata": {},
            "source": [
                "Configure the pipeline parameters as required by the user."
            ]
        },
        {
            "cell_type": "code",
            "execution_count": null,
            "id": "f118bb1f",
            "metadata": {},
            "outputs": [],
            "source": [
                "data_path = \"/media/MIVisionX-data/rocal_data/coco/coco_10_img/train_10images_2017/\"\n",
                "rocal_cpu = True\n",
                "device = \"cpu\"\n",
                "batch_size = 1\n",
                "num_threads = 1\n",
                "random_seed = 1\n",
                "local_rank = 0\n",
                "world_size = 1\n",
                "display = True"
            ]
        },
        {
            "cell_type": "code",
            "execution_count": null,
            "id": "7e069c4d",
            "metadata": {},
            "outputs": [],
            "source": [
                "pipe = Pipeline(batch_size=batch_size, num_threads=num_threads, device_id=local_rank, seed=random_seed, rocal_cpu=rocal_cpu, tensor_layout=types.NHWC, tensor_dtype=types.FLOAT)\n"
            ]
        },
        {
            "cell_type": "markdown",
            "id": "df5e6005",
            "metadata": {},
            "source": [
                "<font size=\"12\"> Image augmentation pipeline </font>"
            ]
        },
        {
            "cell_type": "markdown",
            "id": "e1ab279e",
            "metadata": {},
            "source": [
                "Here the file reader is used followed by the turbo jpeg decoder. In this pipeline, cascaded augmentations are added on the decoded images.<br>Multiple augmentation outputs are returned using set_outputs"
            ]
        },
        {
            "cell_type": "code",
            "execution_count": null,
            "id": "804d8895",
            "metadata": {},
            "outputs": [],
            "source": [
                "resize_w = 200\n",
                "resize_h = 200\n",
                "with pipe:\n",
                "        jpegs, _ = fn.readers.file(file_root=data_path)\n",
                "        images = fn.decoders.image(jpegs, file_root=data_path, device=0, output_type=types.RGB, shard_id=0, num_shards=1, random_shuffle=False)\n",
                "        output_linear = fn.resize(images, resize_width=resize_w, resize_height=resize_h, interpolation_type=types.LINEAR_INTERPOLATION)\n",
                "        output_nearest_neighbor = fn.resize(images, resize_width=resize_w, resize_height=resize_h, interpolation_type=types.NEAREST_NEIGHBOR_INTERPOLATION)\n",
                "        output_cubic = fn.resize(images, resize_width=resize_w, resize_height=resize_h, interpolation_type=types.CUBIC_INTERPOLATION)\n",
                "        output_lanczos = fn.resize(images, resize_width=resize_w, resize_height=resize_h, interpolation_type=types.LANCZOS_INTERPOLATION)\n",
                "        output_gaussian = fn.resize(images, resize_width=resize_w, resize_height=resize_h, interpolation_type=types.GAUSSIAN_INTERPOLATION)\n",
                "        output_triangular = fn.resize(images, resize_width=resize_w, resize_height=resize_h, interpolation_type=types.TRIANGULAR_INTERPOLATION)\n",
                "        pipe.set_outputs(output_linear, output_nearest_neighbor, output_cubic, output_lanczos, output_gaussian, output_triangular)\n"
            ]
        },
        {
            "cell_type": "code",
            "execution_count": null,
            "id": "b6be22ee",
            "metadata": {},
            "outputs": [],
            "source": [
                "pipe.build()\n",
                "# Dataloader\n",
                "data_loader = ROCALClassificationIterator(pipe)"
            ]
        },
        {
            "cell_type": "markdown",
            "id": "401897a3",
            "metadata": {},
            "source": [
                "<font size =\"12\">Visualizing  outputs</font>"
            ]
        },
        {
            "cell_type": "markdown",
            "id": "349bf77c",
            "metadata": {},
            "source": [
                "The output of augmented images are displayed using imshow()"
            ]
        },
        {
            "cell_type": "code",
            "execution_count": null,
            "id": "b7cf8686",
            "metadata": {},
            "outputs": [],
            "source": [
                "cnt = 0\n",
                "aug_list = [\"LINEAR_INTERPOLATION\", \"NEAREST_NEIGHBOR_INTERPOLATION\", \"CUBIC_INTERPOLATION\", \"LANCZOS_INTERPOLATION\", \"GAUSSIAN_INTERPOLATION\", \"TRIANGULAR_INTERPOLATION\"] \n",
                "row = 0\n",
                "col = 0\n",
                "fig, axes = plt.subplots(nrows=3, ncols=2, figsize=(15, 15))\n",
                "for i, it in enumerate(data_loader, 0):\n",
                "    for img in it[0]:\n",
                "        if cnt < len(aug_list):\n",
                "            axes[row, col].set_title(aug_list[cnt])\n",
                "        img = (img[0]).astype(\"uint8\")\n",
                "        axes[row, col].imshow(img)\n",
                "        cnt += 1\n",
                "        row += 1\n",
                "        if row == 3:\n",
                "            row = 0\n",
                "            col += 1\n",
                "        if col == 2:\n",
                "            col = 0\n",
                "data_loader.reset()"
            ]
        }
    ],
    "metadata": {
        "kernelspec": {
            "display_name": "Python 3 (ipykernel)",
            "language": "python",
            "name": "python3"
        },
        "language_info": {
            "codemirror_mode": {
                "name": "ipython",
                "version": 3
            },
            "file_extension": ".py",
            "mimetype": "text/x-python",
            "name": "python",
            "nbconvert_exporter": "python",
            "pygments_lexer": "ipython3",
            "version": "3.8.16"
        }
    },
    "nbformat": 4,
    "nbformat_minor": 5
}
