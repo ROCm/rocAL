{
 "cells": [
  {
   "cell_type": "markdown",
   "id": "4f777cf2",
   "metadata": {},
   "source": [
    "<font size=\"18\">Image Augmentation App</font>"
   ]
  },
  {
   "cell_type": "markdown",
   "id": "185d3b2d",
   "metadata": {},
   "source": [
    "This application demonstrates a simple rocAL pipeline with different augmentations supported by rocAL."
   ]
  },
  {
   "cell_type": "markdown",
   "id": "2ace8c53",
   "metadata": {},
   "source": [
    "<font size=\"12\"> Common Code </font>"
   ]
  },
  {
   "cell_type": "code",
   "execution_count": null,
   "id": "15c865e2",
   "metadata": {},
   "outputs": [],
   "source": [
    "from amd.rocal.plugin.generic import ROCALClassificationIterator\n",
    "from amd.rocal.pipeline import Pipeline\n",
    "import amd.rocal.fn as fn\n",
    "import amd.rocal.types as types\n",
    "import matplotlib.pyplot as plt\n",
    "%matplotlib inline\n"
   ]
  },
  {
   "cell_type": "markdown",
   "id": "e0569dcc",
   "metadata": {},
   "source": [
    "<font size= \"12\" >Configuring rocAL pipeline </font>"
   ]
  },
  {
   "cell_type": "markdown",
   "id": "00c2815c",
   "metadata": {},
   "source": [
    "Configure the pipeline parameters as required by the user."
   ]
  },
  {
   "cell_type": "code",
   "execution_count": null,
   "id": "f118bb1f",
   "metadata": {},
   "outputs": [],
   "source": [
    "data_path = \"/media/MIVisionX-data/rocal_data/coco/coco_10_img/train_10images_2017/\"\n",
    "rocal_cpu = True\n",
    "device = \"cpu\" \n",
    "batch_size =  1\n",
    "num_threads = 1\n",
    "random_seed = 1\n",
    "local_rank =  0\n",
    "world_size =  1\n",
    "display = True "
   ]
  },
  {
   "cell_type": "code",
   "execution_count": null,
   "id": "7e069c4d",
   "metadata": {},
   "outputs": [],
   "source": [
    "pipe = Pipeline(batch_size=batch_size, num_threads=num_threads, device_id=local_rank, seed=random_seed, rocal_cpu=rocal_cpu, tensor_layout=types.NHWC , tensor_dtype=types.FLOAT)\n"
   ]
  },
  {
   "cell_type": "markdown",
   "id": "df5e6005",
   "metadata": {},
   "source": [
    "<font size=\"12\"> Image augmentation pipeline </font>"
   ]
  },
  {
   "cell_type": "markdown",
   "id": "e1ab279e",
   "metadata": {},
   "source": [
    "Here the file reader is used followed by the turbo jpeg decoder. In this pipeline, cascaded augmentations are added on the decoded images.<br>Multiple augmentation outputs are returned using set_outputs"
   ]
  },
  {
   "cell_type": "code",
   "execution_count": null,
   "id": "f9e1dd12",
   "metadata": {},
   "outputs": [],
   "source": [
    "with pipe:\n",
    "        jpegs, _ = fn.readers.file(file_root=data_path)\n",
    "        images = fn.decoders.image(jpegs, file_root=data_path, output_type=types.RGB, shard_id=0, num_shards=1, random_shuffle=True)\n",
    "        resize_outputs = fn.resize(images, resize_width=300, resize_height=300)\n",
    "        brightness_outputs = fn.brightness(resize_outputs)\n",
    "        contrast_outputs = fn.contrast(resize_outputs)\n",
    "        fisheye_outputs = fn.fish_eye(resize_outputs)\n",
    "        fog_outputs = fn.fog(resize_outputs)\n",
    "        exposure_outputs = fn.exposure(resize_outputs)\n",
    "        color_twist_outputs = fn.color_twist(resize_outputs)\n",
    "        saturation_outputs = fn.saturation(resize_outputs)\n",
    "        pipe.set_outputs(resize_outputs, brightness_outputs, contrast_outputs, fisheye_outputs, fog_outputs, exposure_outputs, color_twist_outputs, saturation_outputs)"
   ]
  },
  {
   "cell_type": "code",
   "execution_count": null,
   "id": "b6be22ee",
   "metadata": {},
   "outputs": [],
   "source": [
    "pipe.build()\n",
    "# Dataloader\n",
    "data_loader = ROCALClassificationIterator(pipe)"
   ]
  },
  {
   "cell_type": "markdown",
   "id": "401897a3",
   "metadata": {},
   "source": [
    "<font size =\"12\">Visualizing  outputs</font>"
   ]
  },
  {
   "cell_type": "markdown",
   "id": "349bf77c",
   "metadata": {},
   "source": [
    "The output of augmented images are displayed using imshow()"
   ]
  },
  {
   "cell_type": "code",
   "execution_count": null,
   "id": "67db109e",
   "metadata": {},
   "outputs": [],
   "source": [
    "cnt = 0\n",
    "aug_list = [\"resize\", \"brightness\", \"contrast\", \"fisheye\", \"fog\", \"exposure\", \"colortwist\", \"saturation\"] \n",
    "fig, axes = plt.subplots(nrows=2, ncols=4, figsize=(15,15))\n",
    "row = 0\n",
    "col = 0\n",
    "for i, it in enumerate(data_loader, 0):\n",
    "    for img in it[0]:\n",
    "        if(cnt < len(aug_list)):\n",
    "            axes[row, col].set_title(aug_list[cnt])\n",
    "        img = (img[0]).astype('uint8')\n",
    "        axes[row, col].imshow(img)\n",
    "        cnt += 1\n",
    "        row += 1\n",
    "        if(row == 2):\n",
    "            row = 0\n",
    "            col += 1\n",
    "        if(col == 4):\n",
    "            col = 0\n",
    "data_loader.reset()"
   ]
  }
 ],
 "metadata": {
  "kernelspec": {
   "display_name": "Python 3 (ipykernel)",
   "language": "python",
   "name": "python3"
  }
 },
 "nbformat": 4,
 "nbformat_minor": 5
}
